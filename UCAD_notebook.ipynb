{
  "cells": [
    {
      "cell_type": "markdown",
      "metadata": {
        "id": "hcACNETOdvqJ"
      },
      "source": [
        "# Variables"
      ]
    },
    {
      "cell_type": "code",
      "execution_count": null,
      "metadata": {
        "colab": {
          "base_uri": "https://localhost:8080/"
        },
        "collapsed": true,
        "id": "WDPLTIBIiWt8",
        "outputId": "5f6adf1f-bbc2-4190-cd2e-a8236704f274"
      },
      "outputs": [],
      "source": [
        "%pip install -r requirements.txt"
      ]
    },
    {
      "cell_type": "code",
      "execution_count": null,
      "metadata": {
        "id": "MWbMxllUHBPt"
      },
      "outputs": [],
      "source": [
        "# General\n",
        "\n",
        "drivePath = \"/content/drive\"\n",
        "myDrive = drivePath + \"/MyDrive/colabStuff\" # /content/drive/MyDrive/colabStuff\n",
        "\n",
        "ucadPath = myDrive + \"/UCAD\" #/content/drive/MyDrive/colabStuff/UCAD\n",
        "ucadSegment = ucadPath + \"/segment_anything\" #/content/drive/MyDrive/colabStuff/UCAD/segment_anything"
      ]
    },
    {
      "cell_type": "code",
      "execution_count": null,
      "metadata": {
        "id": "Ku44_WgZeEEZ"
      },
      "outputs": [],
      "source": [
        "# Dataset MVTec LOCO AD\n",
        "\n",
        "dataset_link = \"https://www.mydrive.ch/shares/48237/1b9106ccdfbb09a0c414bd49fe44a14a/download/430647091-1646842701/mvtec_loco_anomaly_detection.tar.xz\"\n",
        "dataset_file_name = \"mvtec_loco_anomaly_detection.tar.xz\"\n",
        "# dataset_labels = ('breakfast_box', 'juice_bottle', 'pushpins', 'screw_bag', 'splicing_connectors')\n",
        "dataset_labels = ('breakfast_box', 'juice_bottle', 'pushpins')"
      ]
    },
    {
      "cell_type": "code",
      "execution_count": null,
      "metadata": {
        "id": "DiHMxfNMhb1P"
      },
      "outputs": [],
      "source": [
        "# Dataset MVTec AD\n",
        "\n",
        "# dataset_link = \"https://www.mydrive.ch/shares/38536/3830184030e49fe74747669442f0f282/download/420938113-1629952094/mvtec_anomaly_detection.tar.xz\"\n",
        "# dataset_file_name = \"mvtec_anomaly_detection.tar.xz\"\n",
        "# dataset_labels = ('bottle', 'cable', 'capsule', 'carpet', 'grid', 'hazelnut', 'leather', 'metal_nut', 'pill', 'screw', 'tile', 'toothbrush', 'transistor', 'wood', 'zipper')\n",
        "# dataset_labels = ('bottle', 'cable', 'capsule')"
      ]
    },
    {
      "cell_type": "code",
      "execution_count": null,
      "metadata": {
        "id": "fJB9BTDShUl9"
      },
      "outputs": [],
      "source": [
        "# Dataset general\n",
        "dataset_name = 'mvtec2d'\n",
        "dataset_path = myDrive + '/' + dataset_name # /content/drive/MyDrive/colabStuff/mvtec2d"
      ]
    },
    {
      "cell_type": "code",
      "execution_count": null,
      "metadata": {
        "id": "6Hec_M8id_Ji"
      },
      "outputs": [],
      "source": [
        "# Sam\n",
        "sam_link = \"https://dl.fbaipublicfiles.com/segment_anything/sam_vit_b_01ec64.pth\"\n",
        "\n",
        "sam_path = ucadSegment + '/dataset_sam.py'\n",
        "sam_checkpoint_path = myDrive + '/sam_vit_b_01ec64.pth'\n",
        "sam_b_my_path = myDrive + '/' + dataset_name + '-sam-b'"
      ]
    },
    {
      "cell_type": "markdown",
      "metadata": {
        "id": "u6wvJRj9dt0r"
      },
      "source": [
        "# Initial setup"
      ]
    },
    {
      "cell_type": "code",
      "execution_count": null,
      "metadata": {
        "colab": {
          "base_uri": "https://localhost:8080/"
        },
        "id": "OIPrJwl5Gs-W",
        "outputId": "7afd955d-8cc2-4be1-f43c-d1aede127545"
      },
      "outputs": [],
      "source": [
        "from google.colab import drive\n",
        "drive.mount(drivePath)"
      ]
    },
    {
      "cell_type": "markdown",
      "metadata": {
        "id": "nw05OwrPfqh9"
      },
      "source": [
        "## Dataset"
      ]
    },
    {
      "cell_type": "code",
      "execution_count": null,
      "metadata": {
        "colab": {
          "base_uri": "https://localhost:8080/"
        },
        "id": "6WcsLmo_vw5x",
        "outputId": "1df6e948-0e69-4465-f4fa-bc406b334c55"
      },
      "outputs": [],
      "source": [
        "# DOWNLOAD THE DATA INTO MY DRIVE\n",
        "!wget {dataset_link} -P {myDrive}"
      ]
    },
    {
      "cell_type": "code",
      "execution_count": null,
      "metadata": {
        "id": "w5K9qWb89ewW"
      },
      "outputs": [],
      "source": [
        "# !tar xzf ./{dataset_name}-sam-b.tar.gz\n",
        "# !tar xf {myDrive}/{dataset_name}-sam-b.tar.xz\n",
        "# !unzip {myDrive}/{dataset_name}-sam-b.zip -d {dataset_path}\n",
        "\n",
        "!mkdir -p {dataset_path}\n",
        "!tar xf {myDrive}/{dataset_file_name} -C {dataset_path}"
      ]
    },
    {
      "cell_type": "markdown",
      "metadata": {
        "id": "p9SaJf9Dfsd7"
      },
      "source": [
        "## Sam"
      ]
    },
    {
      "cell_type": "code",
      "execution_count": null,
      "metadata": {
        "colab": {
          "base_uri": "https://localhost:8080/"
        },
        "id": "zhof7Lmk9gjZ",
        "outputId": "feb70f02-6dc5-4c62-bc67-422604181978"
      },
      "outputs": [],
      "source": [
        "!wget {sam_link} -P {myDrive}"
      ]
    },
    {
      "cell_type": "markdown",
      "metadata": {
        "id": "axZSJbZKdpS1"
      },
      "source": [
        "# Prepare for training"
      ]
    },
    {
      "cell_type": "code",
      "execution_count": null,
      "metadata": {
        "id": "l771yT6DUIH8"
      },
      "outputs": [],
      "source": [
        "!cp -r {dataset_path} {sam_b_my_path}"
      ]
    },
    {
      "cell_type": "code",
      "execution_count": null,
      "metadata": {
        "colab": {
          "background_save": true,
          "base_uri": "https://localhost:8080/"
        },
        "id": "BG-vXqruIvwI",
        "outputId": "d8514067-efe2-493c-8909-c7dc744c74fc"
      },
      "outputs": [],
      "source": [
        "%cd {ucadSegment}\n",
        "!python3 {sam_path} --sam_type 'vit_b' --sam_checkpoint {sam_checkpoint_path} --data_path {sam_b_my_path}"
      ]
    },
    {
      "cell_type": "markdown",
      "metadata": {
        "id": "f-bdEH6Td3Gb"
      },
      "source": [
        "# Training"
      ]
    },
    {
      "cell_type": "code",
      "execution_count": null,
      "metadata": {
        "id": "8382b541"
      },
      "outputs": [],
      "source": [
        "import os\n",
        "\n",
        "os.environ['DATA_PATH'] = myDrive + '/' + dataset_name # /content/drive/MyDrive/colabStuff/mvtec2d\n",
        "\n",
        "dataset_flags = ' '.join(list(map(lambda x: '-d ' + x, dataset_labels)))\n",
        "os.environ['DATASET_FLAGS'] = dataset_flags\n",
        "os.environ['UCAD_PATH'] = ucadPath"
      ]
    },
    {
      "cell_type": "markdown",
      "metadata": {},
      "source": [
        "In the command below the `--log_project` flag is the folder name where the results will be saved, so we could have the results in different folders for different settings/datasets."
      ]
    },
    {
      "cell_type": "code",
      "execution_count": null,
      "metadata": {
        "colab": {
          "base_uri": "https://localhost:8080/"
        },
        "id": "2f9wBzfH_tiB",
        "outputId": "a8681bcc-6b0a-44a8-fbb0-35807ee2fbcc"
      },
      "outputs": [],
      "source": [
        "%cd /content/drive/MyDrive/colabStuff/UCAD/\n",
        "!CUDA_VISIBLE_DEVICES=0 python3 ./run_ucad.py --gpu 0 --epochs_num 5 --seed 0 --memory_size 196 --log_group IM224_UCAD_L5_P01_D1024_M196 --save_segmentation_images --log_project Final_LOCOAD_512_5_epo results ucad -b wideresnet50 -le layer2 -le layer3 --faiss_on_gpu --pretrain_embed_dimension 1024 --target_embed_dimension 1024 --anomaly_scorer_num_nn 1 --patchsize 1 sampler -p 0.1 approx_greedy_coreset dataset --batch_size 8 --num_workers 12 --resize 224 --imagesize 224 {dataset_flags} mvtec {dataset_path}"
      ]
    },
    {
      "cell_type": "code",
      "execution_count": null,
      "metadata": {
        "id": "Klkmj5yg0jez"
      },
      "outputs": [],
      "source": [
        "# %cd ..\n",
        "# !ls\n",
        "# !rm -r UCAD\n",
        "# !rm -r mvtec_ad_2\n",
        "# !rm -r sample_data\n",
        "# !rm -r results\n",
        "# !rm -r results_nolimit"
      ]
    },
    {
      "cell_type": "code",
      "execution_count": null,
      "metadata": {
        "colab": {
          "base_uri": "https://localhost:8080/",
          "height": 507
        },
        "id": "5ZImiloFv4EC",
        "outputId": "754e4d93-2210-4a57-c350-1456dc97879b"
      },
      "outputs": [],
      "source": [
        "import matplotlib.pyplot as plt\n",
        "from sklearn import metrics\n",
        "import numpy as np\n",
        "\n",
        "\n",
        "image_metric = {\n",
        "    'auroc': 0.6931664981462756,\n",
        "    'fpr': np.array([\n",
        "        0., 0., 0., 0.00724638, 0.00724638,\n",
        "        0.02173913, 0.02173913, 0.03623188, 0.03623188, 0.04347826,\n",
        "        0.04347826, 0.07246377, 0.07246377, 0.0942029, 0.0942029,\n",
        "        0.10869565, 0.10869565, 0.12318841, 0.12318841, 0.13768116,\n",
        "        0.13768116, 0.14492754, 0.14492754, 0.15942029, 0.15942029,\n",
        "        0.16666667, 0.16666667, 0.17391304, 0.17391304, 0.18115942,\n",
        "        0.18115942, 0.19565217, 0.19565217, 0.22463768, 0.22463768,\n",
        "        0.23188406, 0.23188406, 0.24637681, 0.24637681, 0.25362319,\n",
        "        0.25362319, 0.26086957, 0.26086957, 0.30434783, 0.30434783,\n",
        "        0.3115942, 0.3115942, 0.31884058, 0.31884058, 0.34782609,\n",
        "        0.34782609, 0.36231884, 0.36231884, 0.37681159, 0.37681159,\n",
        "        0.38405797, 0.38405797, 0.39130435, 0.39130435, 0.41304348,\n",
        "        0.41304348, 0.42028986, 0.42028986, 0.42753623, 0.42753623,\n",
        "        0.43478261, 0.43478261, 0.47101449, 0.47101449, 0.47826087,\n",
        "        0.47826087, 0.49275362, 0.49275362, 0.50724638, 0.50724638,\n",
        "        0.52173913, 0.52173913, 0.53623188, 0.53623188, 0.54347826,\n",
        "        0.54347826, 0.56521739, 0.56521739, 0.58695652, 0.58695652,\n",
        "        0.60144928, 0.60144928, 0.61594203, 0.61594203, 0.63768116,\n",
        "        0.63768116, 0.70289855, 0.70289855, 0.7173913, 0.7173913,\n",
        "        0.72463768, 0.72463768, 0.73913043, 0.73913043, 0.76086957,\n",
        "        0.76086957, 0.79710145, 0.79710145, 0.80434783, 0.80434783,\n",
        "        0.8115942, 0.8115942, 0.84782609, 0.84782609, 0.86231884,\n",
        "        0.86231884, 0.89130435, 0.89130435, 0.89855072, 0.89855072,\n",
        "        0.93478261, 0.93478261, 0.94202899, 0.94202899, 0.95652174,\n",
        "        0.95652174, 1.\n",
        "    ]),\n",
        "    'tpr': np.array([\n",
        "        0., 0.00581395, 0.02906977, 0.02906977, 0.06976744,\n",
        "        0.06976744, 0.12209302, 0.12209302, 0.20930233, 0.20930233,\n",
        "        0.22093023, 0.22093023, 0.23837209, 0.23837209, 0.24418605,\n",
        "        0.24418605, 0.25581395, 0.25581395, 0.28488372, 0.28488372,\n",
        "        0.29069767, 0.29069767, 0.3372093, 0.3372093, 0.35465116,\n",
        "        0.35465116, 0.38372093, 0.38372093, 0.38953488, 0.38953488,\n",
        "        0.43604651, 0.43604651, 0.44186047, 0.44186047, 0.45930233,\n",
        "        0.45930233, 0.46511628, 0.46511628, 0.47674419, 0.47674419,\n",
        "        0.48837209, 0.48837209, 0.54651163, 0.54651163, 0.58139535,\n",
        "        0.58139535, 0.59302326, 0.59302326, 0.59883721, 0.59883721,\n",
        "        0.62209302, 0.62209302, 0.6627907, 0.6627907, 0.6744186,\n",
        "        0.6744186, 0.68023256, 0.68023256, 0.68604651, 0.68604651,\n",
        "        0.72093023, 0.72093023, 0.73255814, 0.73255814, 0.73837209,\n",
        "        0.73837209, 0.74418605, 0.74418605, 0.76162791, 0.76162791,\n",
        "        0.76744186, 0.76744186, 0.77906977, 0.77906977, 0.79069767,\n",
        "        0.79069767, 0.80813953, 0.80813953, 0.81395349, 0.81395349,\n",
        "        0.81976744, 0.81976744, 0.83139535, 0.83139535, 0.85465116,\n",
        "        0.85465116, 0.87209302, 0.87209302, 0.87790698, 0.87790698,\n",
        "        0.88953488, 0.88953488, 0.89534884, 0.89534884, 0.90697674,\n",
        "        0.90697674, 0.9127907, 0.9127907, 0.91860465, 0.91860465,\n",
        "        0.9244186, 0.9244186, 0.93023256, 0.93023256, 0.94186047,\n",
        "        0.94186047, 0.94767442, 0.94767442, 0.95930233, 0.95930233,\n",
        "        0.96511628, 0.96511628, 0.97093023, 0.97093023, 0.97674419,\n",
        "        0.97674419, 0.98837209, 0.98837209, 0.99418605, 0.99418605,\n",
        "        1., 1.\n",
        "    ])\n",
        "}\n",
        "\n",
        "\n",
        "metrics.RocCurveDisplay(\n",
        "    fpr=image_metric['fpr'], tpr=image_metric['tpr']).plot()\n",
        "plt.show()"
      ]
    },
    {
      "cell_type": "code",
      "execution_count": null,
      "metadata": {
        "colab": {
          "base_uri": "https://localhost:8080/",
          "height": 619
        },
        "id": "wgncrLfM-_YH",
        "outputId": "2c8884f7-63de-42b0-b602-adea3b49e14b"
      },
      "outputs": [],
      "source": [
        "import numpy as np\n",
        "import matplotlib.pyplot as plt\n",
        "\n",
        "ad_set = {\n",
        "    'instance_auroc': 0.858,\n",
        "    'full_pixel_auroc': 0.960,\n",
        "    'anomaly_pixel_auroc': 0.954,\n",
        "    'image_ap': 0.922,\n",
        "    'pixel_ap': 0.470,\n",
        "    'pixel_pro': 0.806,\n",
        "}\n",
        "\n",
        "locoad_set = {\n",
        "    'instance_auroc': 0.752,\n",
        "    'full_pixel_auroc': 0.773,\n",
        "    'anomaly_pixel_auroc': 0.757,\n",
        "    'image_ap': 0.832,\n",
        "    'pixel_ap': 0.038,\n",
        "    'pixel_pro': 0.480,\n",
        "}\n",
        "\n",
        "locoad_512_set = {\n",
        "    'instance_auroc': 0.761,\n",
        "    'full_pixel_auroc': 0.837,\n",
        "    'anomaly_pixel_auroc': 0.820,\n",
        "    'image_ap': 0.836,\n",
        "    'pixel_ap': 0.047,\n",
        "    'pixel_pro': 0.572,\n",
        "}\n",
        "\n",
        "\n",
        "labels = list(ad_set.keys())\n",
        "ad_set_values = list(ad_set.values())\n",
        "locoad_set_values = list(locoad_set.values())\n",
        "locoad_512_set_values = list(locoad_512_set.values())\n",
        "\n",
        "x = np.arange(len(labels))\n",
        "width = 0.25\n",
        "\n",
        "fig, ax = plt.subplots(figsize=(14, 8))\n",
        "\n",
        "rects1 = ax.bar(x - width, ad_set_values, width,\n",
        "                label='AD Set', color='skyblue')\n",
        "rects2 = ax.bar(x, locoad_set_values, width,\n",
        "                label='LOCOAD Set', color='royalblue')\n",
        "rects3 = ax.bar(x + width, locoad_512_set_values, width,\n",
        "                label='LOCOAD 512 Set', color='navy')\n",
        "\n",
        "ax.set_ylabel('Score', fontsize=12)\n",
        "ax.set_title('Performance comparison of the datasets',\n",
        "             fontsize=16, fontweight='bold')\n",
        "ax.set_xticks(x)\n",
        "ax.set_xticklabels(labels, rotation=45, ha=\"right\")\n",
        "ax.legend()\n",
        "\n",
        "ax.bar_label(rects1, padding=3, fmt='%.3f')\n",
        "ax.bar_label(rects2, padding=3, fmt='%.3f')\n",
        "ax.bar_label(rects3, padding=3, fmt='%.3f')\n",
        "\n",
        "fig.tight_layout()\n",
        "\n",
        "plt.savefig('performance_comparison.png', dpi=300)\n",
        "\n",
        "plt.show()"
      ]
    }
  ],
  "metadata": {
    "accelerator": "GPU",
    "colab": {
      "collapsed_sections": [
        "axZSJbZKdpS1"
      ],
      "gpuType": "T4",
      "machine_shape": "hm",
      "provenance": []
    },
    "kernelspec": {
      "display_name": "Python 3",
      "name": "python3"
    },
    "language_info": {
      "name": "python"
    }
  },
  "nbformat": 4,
  "nbformat_minor": 0
}
